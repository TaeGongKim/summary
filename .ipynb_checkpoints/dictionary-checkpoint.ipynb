{
 "cells": [
  {
   "cell_type": "markdown",
   "metadata": {},
   "source": [
    "# Empty Check"
   ]
  },
  {
   "cell_type": "code",
   "execution_count": 4,
   "metadata": {},
   "outputs": [
    {
     "name": "stdout",
     "output_type": "stream",
     "text": [
      "Empty\n"
     ]
    }
   ],
   "source": [
    "d = {}\n",
    "if bool(d):\n",
    "    print(\"Not Empty\")\n",
    "else:\n",
    "    print(\"Empty\")"
   ]
  },
  {
   "cell_type": "markdown",
   "metadata": {},
   "source": [
    "# Key Exist Check"
   ]
  },
  {
   "cell_type": "code",
   "execution_count": 13,
   "metadata": {},
   "outputs": [
    {
     "name": "stdout",
     "output_type": "stream",
     "text": [
      "key exist\n",
      "not exist\n"
     ]
    }
   ],
   "source": [
    "dic = {\"a\" : 10, \"b\" : 20, \"c\" : 30, \"d\" : 30}\n",
    "\n",
    "if \"a\" in dic:\n",
    "    print(\"key exist\")\n",
    "    \n",
    "if \"gg\" in dic:\n",
    "    print(\"key exist\")\n",
    "else:\n",
    "    print(\"not exist\")"
   ]
  },
  {
   "cell_type": "markdown",
   "metadata": {},
   "source": [
    "# Max Value Find"
   ]
  },
  {
   "cell_type": "code",
   "execution_count": 10,
   "metadata": {},
   "outputs": [
    {
     "name": "stdout",
     "output_type": "stream",
     "text": [
      "max value : 30\n",
      "max key : c, max value : 30\n",
      "max key : d, max value : 30\n"
     ]
    }
   ],
   "source": [
    "dic = {\"a\" : 10, \"b\" : 20, \"c\" : 30, \"d\" : 30}\n",
    "\n",
    "max_val = max(dic.values())\n",
    "print(f\"max value : {max_val}\")\n",
    "\n",
    "# and find Key\n",
    "max_key = [k for k, v in dic.items() if v == max_val]\n",
    "for k in max_key:\n",
    "    print(f\"max key : {k}, max value : {dic[k]}\")"
   ]
  },
  {
   "cell_type": "markdown",
   "metadata": {},
   "source": [
    "# Sort"
   ]
  },
  {
   "cell_type": "code",
   "execution_count": 17,
   "metadata": {},
   "outputs": [
    {
     "name": "stdout",
     "output_type": "stream",
     "text": [
      "key를 기준으로 정렬 : [('d', 90), ('c', 40), ('b', 20), ('a', 50)]\n",
      "\n",
      "value를 기준으로 정렬 : [('d', 90), ('a', 50), ('c', 40), ('b', 20)]\n"
     ]
    }
   ],
   "source": [
    "# key 기준\n",
    "dic = {\"c\" : 40, \"b\" : 20, \"a\" : 50, \"d\" : 90}\n",
    "\n",
    "res = sorted(dic.items(), reverse = True)\n",
    "print(f\"key를 기준으로 정렬 : {res}\")\n",
    "\n",
    "# value 기준\n",
    "res = sorted(dic.items(), key = (lambda x: x[1]), reverse = True)\n",
    "print(f\"\\nvalue를 기준으로 정렬 : {res}\")"
   ]
  },
  {
   "cell_type": "code",
   "execution_count": null,
   "metadata": {},
   "outputs": [],
   "source": []
  }
 ],
 "metadata": {
  "kernelspec": {
   "display_name": "Python 3",
   "language": "python",
   "name": "python3"
  },
  "language_info": {
   "codemirror_mode": {
    "name": "ipython",
    "version": 3
   },
   "file_extension": ".py",
   "mimetype": "text/x-python",
   "name": "python",
   "nbconvert_exporter": "python",
   "pygments_lexer": "ipython3",
   "version": "3.8.3"
  }
 },
 "nbformat": 4,
 "nbformat_minor": 4
}
